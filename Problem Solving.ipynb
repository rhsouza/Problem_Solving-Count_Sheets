{
  "cells": [
    {
      "cell_type": "markdown",
      "metadata": {
        "id": "rEdQRJ1O6Mrf"
      },
      "source": [
        "# Problema proposto"
      ]
    },
    {
      "cell_type": "markdown",
      "metadata": {
        "id": "6L8UxSAyeOm7"
      },
      "source": [
        "**SOLUÇÃO DE PROBLEMA LÓGICO COM PYTHON**\n",
        "\n",
        "\n",
        "Mateus trabalha em uma gráfica e é responsável por um contrato muito peculiar.\n",
        "Ao longo de uma semana, ele recebe exatamente dezesseis (16) tarefas.\n",
        "Cada tarefa requer apenas uma folha de tamanho A5, de um material e cor especificados no início de cada semana.\n",
        " \n",
        "A cada segunda de manhã, Mateus pega um envelope novo contendo uma única folha de papel A1 de material e cor especificados pelo cliente para aquela semana.\n",
        " \n",
        "Na primeira tarefa da semana, Mateus retira a folha A1 do envelope e a corta em dois, obtendo duas folhas iguais de tamanho A2.\n",
        "Uma destas duas folhas A2 é novamente cortada para obter duas folhas de tamanho A3 e assim por diante até obter uma folha de tamanho A5, que será usada nesta impressão.\n",
        "As demais folhas de diversos tamanhos obtidas no processo são guardadas no envelope.\n",
        " \n",
        "A cada nova tarefa recebida, Mateus abre o envelope e retira uma folha ao acaso. Se for de tamanho A5, ele a usa. Se for mais larga, ele repete o processo de cortar ao meio até obter a folha A5.\n",
        " \n",
        "Excluindo a primeira e a última tarefa da semana, calcule o número esperado de vezes, ou seja, a probabilidade de, em qualquer tarefa,  Mateus encontrar uma única folha de papel dentro do envelope. \n"
      ]
    },
    {
      "cell_type": "markdown",
      "metadata": {
        "id": "XTG0p1wO7W7g"
      },
      "source": [
        "# Minha solução"
      ]
    },
    {
      "cell_type": "markdown",
      "metadata": {
        "id": "DeGX7ZMe6J4W"
      },
      "source": [
        "*Para a solução desse problema, pensei em criar um dicionário contendo as chaves como tipo de folha (A1, A2...) e os valores sendo suas quantidades.\n",
        "A ideia é transformar esse algorítmo em uma função, que receba as quantidades de folhas por tipo e exiba a quanitdade de tarefas e quantas vezes ele abriu o envelope e encontrou apenas 1 folha.*\n"
      ]
    },
    {
      "cell_type": "markdown",
      "metadata": {
        "id": "Ub8ptJkF86d-"
      },
      "source": [
        " *Criando o dicionário com valores iniciais do enunciado*"
      ]
    },
    {
      "cell_type": "code",
      "execution_count": 1,
      "metadata": {
        "colab": {
          "base_uri": "https://localhost:8080/"
        },
        "id": "TeIPcRF68Krn",
        "outputId": "d45b1c34-a849-4bdd-e365-63ecf405c0f3"
      },
      "outputs": [
        {
          "name": "stdout",
          "output_type": "stream",
          "text": [
            "{'A1': 1, 'A2': 0, 'A3': 0, 'A4': 0, 'A5': 0}\n"
          ]
        }
      ],
      "source": [
        "Folhas = {'A1':1, 'A2':0, 'A3':0, 'A4':0, 'A5':0}\n",
        "print(Folhas)"
      ]
    },
    {
      "cell_type": "markdown",
      "metadata": {
        "id": "S-v0NsO88aPn"
      },
      "source": [
        "*Criando as duas variáveis de controle, uma para a contagem de tarefas e a outra para a contagem de vezes em que havia apenas 1 folha no envelope*"
      ]
    },
    {
      "cell_type": "code",
      "execution_count": 2,
      "metadata": {
        "colab": {
          "base_uri": "https://localhost:8080/"
        },
        "id": "v5MeObTb8srW",
        "outputId": "8da6654a-bb7a-4c09-839c-072b4a7c9b33"
      },
      "outputs": [
        {
          "name": "stdout",
          "output_type": "stream",
          "text": [
            "Repeticoes = 0 e QuantidadeUmaFolha = 0\n"
          ]
        }
      ],
      "source": [
        "Repeticoes = 0\n",
        "QuantidadeUmaFolha = 0\n",
        "\n",
        "print('Repeticoes = {0} e QuantidadeUmaFolha = {1}'.format(Repeticoes,QuantidadeUmaFolha))\n"
      ]
    },
    {
      "cell_type": "markdown",
      "metadata": {
        "id": "28e84Xiw8u82"
      },
      "source": [
        "*A lógica que pensei é em cascata, pensando que o Matheus (usuário) irá sempre pegar a menor folha.\n",
        "Sendo assim, quando ele pegar uma folha de tamanho A5, a mesma será subtraída do total de folhas, posteriormente ele pegará a A4, que será subtraída e somará apenas 1 na quantidade de folhas de tamanho A5, pois uma ele usará para a tarefa.\n",
        "Ficará assim:\n",
        "  Pega uma folha A5, Então A5 = A5 - 1"
      ]
    },
    {
      "cell_type": "code",
      "execution_count": 3,
      "metadata": {
        "id": "uWk0cVA7es0P"
      },
      "outputs": [],
      "source": [
        "def VerificadorUmaFolha(QtdA1, QtdA2, QtdA3, QtdA4, QtdA5):\n",
        "  \n",
        "  Folhas = {'A1':QtdA1, 'A2':QtdA2, 'A3':QtdA3, 'A4':QtdA4, 'A5':QtdA5}\n",
        "  Repeticoes = 0\n",
        "  QuantidadeUmaFolha = 0\n",
        "\n",
        "  while sum(Folhas.values()) > 0:\n",
        "    Repeticoes += 1\n",
        "\n",
        "    if sum(Folhas.values()) == 1:\n",
        "      QuantidadeUmaFolha += 1\n",
        "    \n",
        "    if Folhas['A5'] > 0:\n",
        "      Folhas['A5'] -= 1\n",
        "\n",
        "    elif Folhas['A4'] > 0:\n",
        "      Folhas['A4'] -= 1\n",
        "      Folhas['A5'] += 1\n",
        "\n",
        "    elif Folhas['A3'] > 0:\n",
        "        Folhas['A3'] -= 1\n",
        "        Folhas['A4'] += 1\n",
        "        Folhas['A5'] += 1\n",
        "\n",
        "    elif Folhas['A2'] > 0:\n",
        "        Folhas['A2'] -= 1\n",
        "        Folhas['A3'] += 1\n",
        "        Folhas['A4'] += 1\n",
        "        Folhas['A5'] += 1\n",
        "\n",
        "    elif Folhas['A1'] > 0:\n",
        "        Folhas['A1'] -= 1\n",
        "        Folhas['A2'] += 1\n",
        "        Folhas['A3'] += 1\n",
        "        Folhas['A4'] += 1\n",
        "        Folhas['A5'] += 1\n",
        "  \n",
        "  return print('Com essa configuração ele realizou {0} tarefas, onde se deparou com apenas uma folha no envelope {1} vezes.'.format(Repeticoes, QuantidadeUmaFolha))"
      ]
    },
    {
      "cell_type": "code",
      "execution_count": 4,
      "metadata": {
        "colab": {
          "base_uri": "https://localhost:8080/"
        },
        "id": "ESaB6qZSfWfv",
        "outputId": "bd07b7cc-0f30-414e-b389-28164b6d22d4"
      },
      "outputs": [
        {
          "name": "stdout",
          "output_type": "stream",
          "text": [
            "Com essa configuração ele realizou 16 tarefas, onde se deparou com apenas uma folha no envelope 5 vezes.\n"
          ]
        }
      ],
      "source": [
        "VerificadorUmaFolha(1,0,0,0,0)"
      ]
    },
    {
      "cell_type": "markdown",
      "metadata": {
        "id": "8dTpG_7gZRhm"
      },
      "source": [
        "Respondendo a pergunta de probabilidade do enunciado, das 16 tarefas realizadas ele se deparou com apenas 1 folha 5 vezes. Sendo assim a probabilidade desconsiderando a primeira e última tarefa será de 3/14, ou seja 21% de chance de quando abrir o envolope conter apeans 1 folha.\n",
        "\n",
        "\n",
        "O interessante desse exercício, é que caso ele receba mais folhas A5, ele sempre se deparará apenas 5 vezes com apenas uma folha no envelope, como podemos ver abaixo no exemplo com 3 folhas A1:"
      ]
    },
    {
      "cell_type": "code",
      "execution_count": 5,
      "metadata": {
        "colab": {
          "base_uri": "https://localhost:8080/"
        },
        "id": "7gA_D4MXZLDg",
        "outputId": "6a72bf14-0806-433a-f1b6-baa249f44126"
      },
      "outputs": [
        {
          "name": "stdout",
          "output_type": "stream",
          "text": [
            "Com essa configuração ele realizou 48 tarefas, onde se deparou com apenas uma folha no envelope 5 vezes.\n"
          ]
        }
      ],
      "source": [
        "VerificadorUmaFolha(3,0,0,0,0)"
      ]
    },
    {
      "cell_type": "markdown",
      "metadata": {
        "id": "LlyDI5WxZsKu"
      },
      "source": [
        "O código abaixo irá exibir a quantidade de cartas em cada passagem da cascata. Com isso entendemos o motivo de sempre exibir apenas 5 vezes uma única folha no envelope."
      ]
    },
    {
      "cell_type": "code",
      "execution_count": 6,
      "metadata": {
        "colab": {
          "base_uri": "https://localhost:8080/"
        },
        "id": "vc7br9eCs_Q3",
        "outputId": "c7fab5df-ee59-4419-bca2-60348750be76"
      },
      "outputs": [
        {
          "name": "stdout",
          "output_type": "stream",
          "text": [
            "{'A1': 3, 'A2': 0, 'A3': 0, 'A4': 0, 'A5': 0}  - TOTAL DE FOLHAS: 3\n",
            "{'A1': 2, 'A2': 1, 'A3': 1, 'A4': 1, 'A5': 1}  - TOTAL DE FOLHAS: 6\n",
            "{'A1': 2, 'A2': 1, 'A3': 1, 'A4': 1, 'A5': 0}  - TOTAL DE FOLHAS: 5\n",
            "{'A1': 2, 'A2': 1, 'A3': 1, 'A4': 0, 'A5': 1}  - TOTAL DE FOLHAS: 5\n",
            "{'A1': 2, 'A2': 1, 'A3': 1, 'A4': 0, 'A5': 0}  - TOTAL DE FOLHAS: 4\n",
            "{'A1': 2, 'A2': 1, 'A3': 0, 'A4': 1, 'A5': 1}  - TOTAL DE FOLHAS: 5\n",
            "{'A1': 2, 'A2': 1, 'A3': 0, 'A4': 1, 'A5': 0}  - TOTAL DE FOLHAS: 4\n",
            "{'A1': 2, 'A2': 1, 'A3': 0, 'A4': 0, 'A5': 1}  - TOTAL DE FOLHAS: 4\n",
            "{'A1': 2, 'A2': 1, 'A3': 0, 'A4': 0, 'A5': 0}  - TOTAL DE FOLHAS: 3\n",
            "{'A1': 2, 'A2': 0, 'A3': 1, 'A4': 1, 'A5': 1}  - TOTAL DE FOLHAS: 5\n",
            "{'A1': 2, 'A2': 0, 'A3': 1, 'A4': 1, 'A5': 0}  - TOTAL DE FOLHAS: 4\n",
            "{'A1': 2, 'A2': 0, 'A3': 1, 'A4': 0, 'A5': 1}  - TOTAL DE FOLHAS: 4\n",
            "{'A1': 2, 'A2': 0, 'A3': 1, 'A4': 0, 'A5': 0}  - TOTAL DE FOLHAS: 3\n",
            "{'A1': 2, 'A2': 0, 'A3': 0, 'A4': 1, 'A5': 1}  - TOTAL DE FOLHAS: 4\n",
            "{'A1': 2, 'A2': 0, 'A3': 0, 'A4': 1, 'A5': 0}  - TOTAL DE FOLHAS: 3\n",
            "{'A1': 2, 'A2': 0, 'A3': 0, 'A4': 0, 'A5': 1}  - TOTAL DE FOLHAS: 3\n",
            "{'A1': 2, 'A2': 0, 'A3': 0, 'A4': 0, 'A5': 0}  - TOTAL DE FOLHAS: 2\n",
            "{'A1': 1, 'A2': 1, 'A3': 1, 'A4': 1, 'A5': 1}  - TOTAL DE FOLHAS: 5\n",
            "{'A1': 1, 'A2': 1, 'A3': 1, 'A4': 1, 'A5': 0}  - TOTAL DE FOLHAS: 4\n",
            "{'A1': 1, 'A2': 1, 'A3': 1, 'A4': 0, 'A5': 1}  - TOTAL DE FOLHAS: 4\n",
            "{'A1': 1, 'A2': 1, 'A3': 1, 'A4': 0, 'A5': 0}  - TOTAL DE FOLHAS: 3\n",
            "{'A1': 1, 'A2': 1, 'A3': 0, 'A4': 1, 'A5': 1}  - TOTAL DE FOLHAS: 4\n",
            "{'A1': 1, 'A2': 1, 'A3': 0, 'A4': 1, 'A5': 0}  - TOTAL DE FOLHAS: 3\n",
            "{'A1': 1, 'A2': 1, 'A3': 0, 'A4': 0, 'A5': 1}  - TOTAL DE FOLHAS: 3\n",
            "{'A1': 1, 'A2': 1, 'A3': 0, 'A4': 0, 'A5': 0}  - TOTAL DE FOLHAS: 2\n",
            "{'A1': 1, 'A2': 0, 'A3': 1, 'A4': 1, 'A5': 1}  - TOTAL DE FOLHAS: 4\n",
            "{'A1': 1, 'A2': 0, 'A3': 1, 'A4': 1, 'A5': 0}  - TOTAL DE FOLHAS: 3\n",
            "{'A1': 1, 'A2': 0, 'A3': 1, 'A4': 0, 'A5': 1}  - TOTAL DE FOLHAS: 3\n",
            "{'A1': 1, 'A2': 0, 'A3': 1, 'A4': 0, 'A5': 0}  - TOTAL DE FOLHAS: 2\n",
            "{'A1': 1, 'A2': 0, 'A3': 0, 'A4': 1, 'A5': 1}  - TOTAL DE FOLHAS: 3\n",
            "{'A1': 1, 'A2': 0, 'A3': 0, 'A4': 1, 'A5': 0}  - TOTAL DE FOLHAS: 2\n",
            "{'A1': 1, 'A2': 0, 'A3': 0, 'A4': 0, 'A5': 1}  - TOTAL DE FOLHAS: 2\n",
            "{'A1': 1, 'A2': 0, 'A3': 0, 'A4': 0, 'A5': 0}  - TOTAL DE FOLHAS: 1\n",
            "{'A1': 0, 'A2': 1, 'A3': 1, 'A4': 1, 'A5': 1}  - TOTAL DE FOLHAS: 4\n",
            "{'A1': 0, 'A2': 1, 'A3': 1, 'A4': 1, 'A5': 0}  - TOTAL DE FOLHAS: 3\n",
            "{'A1': 0, 'A2': 1, 'A3': 1, 'A4': 0, 'A5': 1}  - TOTAL DE FOLHAS: 3\n",
            "{'A1': 0, 'A2': 1, 'A3': 1, 'A4': 0, 'A5': 0}  - TOTAL DE FOLHAS: 2\n",
            "{'A1': 0, 'A2': 1, 'A3': 0, 'A4': 1, 'A5': 1}  - TOTAL DE FOLHAS: 3\n",
            "{'A1': 0, 'A2': 1, 'A3': 0, 'A4': 1, 'A5': 0}  - TOTAL DE FOLHAS: 2\n",
            "{'A1': 0, 'A2': 1, 'A3': 0, 'A4': 0, 'A5': 1}  - TOTAL DE FOLHAS: 2\n",
            "{'A1': 0, 'A2': 1, 'A3': 0, 'A4': 0, 'A5': 0}  - TOTAL DE FOLHAS: 1\n",
            "{'A1': 0, 'A2': 0, 'A3': 1, 'A4': 1, 'A5': 1}  - TOTAL DE FOLHAS: 3\n",
            "{'A1': 0, 'A2': 0, 'A3': 1, 'A4': 1, 'A5': 0}  - TOTAL DE FOLHAS: 2\n",
            "{'A1': 0, 'A2': 0, 'A3': 1, 'A4': 0, 'A5': 1}  - TOTAL DE FOLHAS: 2\n",
            "{'A1': 0, 'A2': 0, 'A3': 1, 'A4': 0, 'A5': 0}  - TOTAL DE FOLHAS: 1\n",
            "{'A1': 0, 'A2': 0, 'A3': 0, 'A4': 1, 'A5': 1}  - TOTAL DE FOLHAS: 2\n",
            "{'A1': 0, 'A2': 0, 'A3': 0, 'A4': 1, 'A5': 0}  - TOTAL DE FOLHAS: 1\n",
            "{'A1': 0, 'A2': 0, 'A3': 0, 'A4': 0, 'A5': 1}  - TOTAL DE FOLHAS: 1\n"
          ]
        }
      ],
      "source": [
        "Folhas = {'A1':3, 'A2':0, 'A3':0, 'A4':0, 'A5':0}\n",
        "Repeticoes = 0\n",
        "QuantidadeUmaFolha = 0\n",
        "\n",
        "while sum(Folhas.values()) > 0:\n",
        "  print(Folhas, ' - TOTAL DE FOLHAS:', sum(Folhas.values()))\n",
        "  Repeticoes += 1\n",
        "\n",
        "  if sum(Folhas.values()) == 1:\n",
        "    QuantidadeUmaFolha += 1\n",
        "  \n",
        "  if Folhas['A5'] > 0:\n",
        "    Folhas['A5'] -= 1\n",
        "  elif Folhas['A4'] > 0:\n",
        "    Folhas['A4'] -= 1\n",
        "    Folhas['A5'] += 1\n",
        "  elif Folhas['A3'] > 0:\n",
        "      Folhas['A3'] -= 1\n",
        "      Folhas['A4'] += 1\n",
        "      Folhas['A5'] += 1\n",
        "  elif Folhas['A2'] > 0:\n",
        "      Folhas['A2'] -= 1\n",
        "      Folhas['A3'] += 1\n",
        "      Folhas['A4'] += 1\n",
        "      Folhas['A5'] += 1\n",
        "  elif Folhas['A1'] > 0:\n",
        "      Folhas['A1'] -= 1\n",
        "      Folhas['A2'] += 1\n",
        "      Folhas['A3'] += 1\n",
        "      Folhas['A4'] += 1\n",
        "      Folhas['A5'] += 1\n",
        "  "
      ]
    }
  ],
  "metadata": {
    "colab": {
      "collapsed_sections": [],
      "name": "SOLUÇÃO DE PROBLEMA LÓGICO COM PYTHON.ipynb",
      "provenance": [],
      "toc_visible": true
    },
    "kernelspec": {
      "display_name": "Python 3",
      "name": "python3"
    },
    "language_info": {
      "name": "python"
    }
  },
  "nbformat": 4,
  "nbformat_minor": 0
}
